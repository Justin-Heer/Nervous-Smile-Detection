{
 "cells": [
  {
   "cell_type": "code",
   "execution_count": 1,
   "metadata": {},
   "outputs": [
    {
     "ename": "SyntaxError",
     "evalue": "trailing comma not allowed without surrounding parentheses (<ipython-input-1-8d80ea8d26db>, line 2)",
     "output_type": "error",
     "traceback": [
      "\u001b[1;36m  File \u001b[1;32m\"<ipython-input-1-8d80ea8d26db>\"\u001b[1;36m, line \u001b[1;32m2\u001b[0m\n\u001b[1;33m    from tensorflow.keras.layers import Dense, Conv2D, MaxPooling2D, Dropout, Flatten,\u001b[0m\n\u001b[1;37m                                       ^\u001b[0m\n\u001b[1;31mSyntaxError\u001b[0m\u001b[1;31m:\u001b[0m trailing comma not allowed without surrounding parentheses\n"
     ]
    }
   ],
   "source": [
    "from tensorflow.keras.models import Sequential\n",
    "from tensorflow.keras.layers import Dense, Conv2D, MaxPooling2D, Dropout, Flatten\n",
    "from tensorflow.keras.callbacks import ModelCheckpoint\n",
    "import os\n",
    "import cv2\n",
    "import numpy as np"
   ]
  },
  {
   "cell_type": "code",
   "execution_count": 376,
   "metadata": {},
   "outputs": [],
   "source": [
    "def create_model():\n",
    "    model = Sequential()\n",
    "    model.add(Conv2D(64,3,1, activation = 'relu',\n",
    "                     input_shape=(64,64,1), padding = 'same'))\n",
    "    model.add(MaxPooling2D(pool_size= (2,2), padding = 'same'))\n",
    "    model.add(Dropout(0.2))\n",
    "    \n",
    "    model.add(Conv2D(64,3,1, activation = 'relu'))\n",
    "    model.add(MaxPooling2D((2,2)))\n",
    "    model.add(Dropout(0.2))\n",
    "#     #test\n",
    "    model.add(Conv2D(64,3,1, activation = 'relu'))\n",
    "    model.add(MaxPooling2D((2,2)))\n",
    "    model.add(Dropout(0.2))\n",
    "    \n",
    "    model.add(Flatten())\n",
    "    model.add(Dense(32, activation= 'relu'))\n",
    "    model.add(Dropout(0.2))\n",
    "    model.add(Dense(32, activation= 'relu'))\n",
    "    model.add(Dropout(0.2))\n",
    "    model.add(Dense(1, activation= 'sigmoid'))\n",
    "    \n",
    "    model.compile(loss= 'binary_crossentropy', optimizer= 'adam', metrics= ['accuracy'])\n",
    "    \n",
    "    return model"
   ]
  },
  {
   "cell_type": "code",
   "execution_count": 377,
   "metadata": {},
   "outputs": [
    {
     "name": "stdout",
     "output_type": "stream",
     "text": [
      "Model: \"sequential_91\"\n",
      "_________________________________________________________________\n",
      "Layer (type)                 Output Shape              Param #   \n",
      "=================================================================\n",
      "conv2d_93 (Conv2D)           (None, 64, 64, 64)        640       \n",
      "_________________________________________________________________\n",
      "max_pooling2d_86 (MaxPooling (None, 32, 32, 64)        0         \n",
      "_________________________________________________________________\n",
      "dropout_161 (Dropout)        (None, 32, 32, 64)        0         \n",
      "_________________________________________________________________\n",
      "conv2d_94 (Conv2D)           (None, 30, 30, 64)        36928     \n",
      "_________________________________________________________________\n",
      "max_pooling2d_87 (MaxPooling (None, 15, 15, 64)        0         \n",
      "_________________________________________________________________\n",
      "dropout_162 (Dropout)        (None, 15, 15, 64)        0         \n",
      "_________________________________________________________________\n",
      "conv2d_95 (Conv2D)           (None, 13, 13, 64)        36928     \n",
      "_________________________________________________________________\n",
      "max_pooling2d_88 (MaxPooling (None, 6, 6, 64)          0         \n",
      "_________________________________________________________________\n",
      "dropout_163 (Dropout)        (None, 6, 6, 64)          0         \n",
      "_________________________________________________________________\n",
      "flatten_35 (Flatten)         (None, 2304)              0         \n",
      "_________________________________________________________________\n",
      "dense_105 (Dense)            (None, 32)                73760     \n",
      "_________________________________________________________________\n",
      "dropout_164 (Dropout)        (None, 32)                0         \n",
      "_________________________________________________________________\n",
      "dense_106 (Dense)            (None, 32)                1056      \n",
      "_________________________________________________________________\n",
      "dropout_165 (Dropout)        (None, 32)                0         \n",
      "_________________________________________________________________\n",
      "dense_107 (Dense)            (None, 1)                 33        \n",
      "=================================================================\n",
      "Total params: 149,345\n",
      "Trainable params: 149,345\n",
      "Non-trainable params: 0\n",
      "_________________________________________________________________\n",
      "None\n"
     ]
    }
   ],
   "source": [
    "model = create_model()\n",
    "print(model.summary())"
   ]
  },
  {
   "cell_type": "code",
   "execution_count": 379,
   "metadata": {},
   "outputs": [],
   "source": [
    "pos_fns = [file for file in os.listdir('positives/positives7')]\n",
    "neg_fns = [file for file in os.listdir('negatives/negatives7')]"
   ]
  },
  {
   "cell_type": "code",
   "execution_count": 380,
   "metadata": {},
   "outputs": [],
   "source": [
    "pos_imgs = []\n",
    "for pos_fn in pos_fns:\n",
    "    image = cv2.imread(f\"positives/positives7/{pos_fn}\",0)\n",
    "    pos_imgs.append(image)\n",
    "\n",
    "neg_imgs = []\n",
    "for neg_fn in neg_fns:\n",
    "    image = cv2.imread(f\"negatives/negatives7/{neg_fn}\",0)\n",
    "    neg_imgs.append(image)"
   ]
  },
  {
   "cell_type": "code",
   "execution_count": 381,
   "metadata": {},
   "outputs": [
    {
     "name": "stdout",
     "output_type": "stream",
     "text": [
      "(6689, 64, 64) (6689,)\n"
     ]
    }
   ],
   "source": [
    "X = np.array(pos_imgs[1:] + neg_imgs[0:3000])\n",
    "y = np.concatenate([np.ones(len(pos_imgs[1:])), np.zeros(len(neg_imgs[0:3000]))])\n",
    "\n",
    "print(X.shape, y.shape)"
   ]
  },
  {
   "cell_type": "code",
   "execution_count": 382,
   "metadata": {},
   "outputs": [],
   "source": [
    "mcp_save = ModelCheckpoint('smile_test.h5',save_best_only= True,\n",
    "                          monitor='val_accuracy',\n",
    "                          verbose = 1,\n",
    "                          mode= 'max')"
   ]
  },
  {
   "cell_type": "code",
   "execution_count": 383,
   "metadata": {},
   "outputs": [],
   "source": [
    "X = X.reshape(6689,64,64,1)"
   ]
  },
  {
   "cell_type": "code",
   "execution_count": 385,
   "metadata": {},
   "outputs": [
    {
     "name": "stdout",
     "output_type": "stream",
     "text": [
      "Train on 4682 samples, validate on 2007 samples\n",
      "Epoch 1/15\n",
      "4672/4682 [============================>.] - ETA: 0s - loss: 0.2996 - accuracy: 0.8801\n",
      "Epoch 00001: val_accuracy did not improve from 0.84155\n",
      "4682/4682 [==============================] - 18s 4ms/sample - loss: 0.2990 - accuracy: 0.8804 - val_loss: 0.8594 - val_accuracy: 0.6846\n",
      "Epoch 2/15\n",
      "4672/4682 [============================>.] - ETA: 0s - loss: 0.2985 - accuracy: 0.8748\n",
      "Epoch 00002: val_accuracy did not improve from 0.84155\n",
      "4682/4682 [==============================] - 18s 4ms/sample - loss: 0.2983 - accuracy: 0.8748 - val_loss: 0.6235 - val_accuracy: 0.8087\n",
      "Epoch 3/15\n",
      "4672/4682 [============================>.] - ETA: 0s - loss: 0.2811 - accuracy: 0.8938\n",
      "Epoch 00003: val_accuracy did not improve from 0.84155\n",
      "4682/4682 [==============================] - 18s 4ms/sample - loss: 0.2806 - accuracy: 0.8941 - val_loss: 0.7593 - val_accuracy: 0.7200\n",
      "Epoch 4/15\n",
      "4672/4682 [============================>.] - ETA: 0s - loss: 0.2727 - accuracy: 0.8953\n",
      "Epoch 00004: val_accuracy did not improve from 0.84155\n",
      "4682/4682 [==============================] - 18s 4ms/sample - loss: 0.2726 - accuracy: 0.8953 - val_loss: 0.6513 - val_accuracy: 0.7783\n",
      "Epoch 5/15\n",
      "4672/4682 [============================>.] - ETA: 0s - loss: 0.2540 - accuracy: 0.9005\n",
      "Epoch 00005: val_accuracy did not improve from 0.84155\n",
      "4682/4682 [==============================] - 18s 4ms/sample - loss: 0.2537 - accuracy: 0.9007 - val_loss: 0.6548 - val_accuracy: 0.7524\n",
      "Epoch 6/15\n",
      "4672/4682 [============================>.] - ETA: 0s - loss: 0.2592 - accuracy: 0.9013\n",
      "Epoch 00006: val_accuracy did not improve from 0.84155\n",
      "4682/4682 [==============================] - 18s 4ms/sample - loss: 0.2597 - accuracy: 0.9007 - val_loss: 0.6331 - val_accuracy: 0.7304\n",
      "Epoch 7/15\n",
      "4672/4682 [============================>.] - ETA: 0s - loss: 0.2545 - accuracy: 0.9003\n",
      "Epoch 00007: val_accuracy did not improve from 0.84155\n",
      "4682/4682 [==============================] - 18s 4ms/sample - loss: 0.2539 - accuracy: 0.9005 - val_loss: 0.6134 - val_accuracy: 0.7693\n",
      "Epoch 8/15\n",
      "4672/4682 [============================>.] - ETA: 0s - loss: 0.2501 - accuracy: 0.9037\n",
      "Epoch 00008: val_accuracy did not improve from 0.84155\n",
      "4682/4682 [==============================] - 18s 4ms/sample - loss: 0.2499 - accuracy: 0.9037 - val_loss: 0.5602 - val_accuracy: 0.7713\n",
      "Epoch 9/15\n",
      "4672/4682 [============================>.] - ETA: 0s - loss: 0.2310 - accuracy: 0.9122\n",
      "Epoch 00009: val_accuracy improved from 0.84155 to 0.86746, saving model to smile_test.h5\n",
      "4682/4682 [==============================] - 18s 4ms/sample - loss: 0.2306 - accuracy: 0.9124 - val_loss: 0.4255 - val_accuracy: 0.8675\n",
      "Epoch 10/15\n",
      "4672/4682 [============================>.] - ETA: 0s - loss: 0.2288 - accuracy: 0.9146\n",
      "Epoch 00010: val_accuracy did not improve from 0.86746\n",
      "4682/4682 [==============================] - 18s 4ms/sample - loss: 0.2289 - accuracy: 0.9144 - val_loss: 0.5571 - val_accuracy: 0.7569\n",
      "Epoch 11/15\n",
      "4672/4682 [============================>.] - ETA: 0s - loss: 0.2295 - accuracy: 0.9191\n",
      "Epoch 00011: val_accuracy did not improve from 0.86746\n",
      "4682/4682 [==============================] - 18s 4ms/sample - loss: 0.2292 - accuracy: 0.9193 - val_loss: 0.5371 - val_accuracy: 0.7952\n",
      "Epoch 12/15\n",
      "4672/4682 [============================>.] - ETA: 0s - loss: 0.2321 - accuracy: 0.9105\n",
      "Epoch 00012: val_accuracy did not improve from 0.86746\n",
      "4682/4682 [==============================] - 18s 4ms/sample - loss: 0.2318 - accuracy: 0.9107 - val_loss: 0.5144 - val_accuracy: 0.7783\n",
      "Epoch 13/15\n",
      "4672/4682 [============================>.] - ETA: 0s - loss: 0.2150 - accuracy: 0.9137\n",
      "Epoch 00013: val_accuracy did not improve from 0.86746\n",
      "4682/4682 [==============================] - 18s 4ms/sample - loss: 0.2147 - accuracy: 0.9139 - val_loss: 0.5664 - val_accuracy: 0.7678\n",
      "Epoch 14/15\n",
      "4672/4682 [============================>.] - ETA: 0s - loss: 0.2144 - accuracy: 0.9165\n",
      "Epoch 00014: val_accuracy improved from 0.86746 to 0.86946, saving model to smile_test.h5\n",
      "4682/4682 [==============================] - 18s 4ms/sample - loss: 0.2144 - accuracy: 0.9165 - val_loss: 0.3799 - val_accuracy: 0.8695\n",
      "Epoch 15/15\n",
      "4672/4682 [============================>.] - ETA: 0s - loss: 0.2152 - accuracy: 0.9170\n",
      "Epoch 00015: val_accuracy did not improve from 0.86946\n",
      "4682/4682 [==============================] - 18s 4ms/sample - loss: 0.2150 - accuracy: 0.9171 - val_loss: 0.5228 - val_accuracy: 0.7713\n"
     ]
    },
    {
     "data": {
      "text/plain": [
       "<tensorflow.python.keras.callbacks.History at 0x24044cc8388>"
      ]
     },
     "execution_count": 385,
     "metadata": {},
     "output_type": "execute_result"
    }
   ],
   "source": [
    "model.fit(X,y,\n",
    "         epochs = 15,\n",
    "         batch_size= 32,\n",
    "         validation_split= 0.3,\n",
    "         verbose=1,\n",
    "         callbacks=[mcp_save])"
   ]
  },
  {
   "cell_type": "code",
   "execution_count": 339,
   "metadata": {},
   "outputs": [],
   "source": [
    "test_image = cv2.imread(f\"positives/positives7/652.jpg\",0)\n",
    "arr = np.array(test_image)\n",
    "arr = arr.reshape(1,64,64,1)"
   ]
  },
  {
   "cell_type": "code",
   "execution_count": 340,
   "metadata": {},
   "outputs": [
    {
     "data": {
      "text/plain": [
       "array([[1]])"
      ]
     },
     "execution_count": 340,
     "metadata": {},
     "output_type": "execute_result"
    }
   ],
   "source": [
    "model.predict_classes(arr)"
   ]
  },
  {
   "cell_type": "code",
   "execution_count": 103,
   "metadata": {},
   "outputs": [
    {
     "data": {
      "text/plain": [
       "3690"
      ]
     },
     "execution_count": 103,
     "metadata": {},
     "output_type": "execute_result"
    }
   ],
   "source": [
    "len(pos_imgs)"
   ]
  },
  {
   "cell_type": "code",
   "execution_count": 104,
   "metadata": {},
   "outputs": [
    {
     "data": {
      "text/plain": [
       "9476"
      ]
     },
     "execution_count": 104,
     "metadata": {},
     "output_type": "execute_result"
    }
   ],
   "source": [
    "len(neg_imgs)"
   ]
  },
  {
   "cell_type": "code",
   "execution_count": 115,
   "metadata": {},
   "outputs": [
    {
     "data": {
      "text/plain": [
       "array([[1]])"
      ]
     },
     "execution_count": 115,
     "metadata": {},
     "output_type": "execute_result"
    }
   ],
   "source": [
    "model.predict_classes(arr)"
   ]
  }
 ],
 "metadata": {
  "kernelspec": {
   "display_name": "Python 3",
   "language": "python",
   "name": "python3"
  },
  "language_info": {
   "codemirror_mode": {
    "name": "ipython",
    "version": 3
   },
   "file_extension": ".py",
   "mimetype": "text/x-python",
   "name": "python",
   "nbconvert_exporter": "python",
   "pygments_lexer": "ipython3",
   "version": "3.7.7"
  }
 },
 "nbformat": 4,
 "nbformat_minor": 4
}
