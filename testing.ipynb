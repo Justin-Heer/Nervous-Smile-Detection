{
 "cells": [
  {
   "cell_type": "code",
   "execution_count": 18,
   "metadata": {},
   "outputs": [
    {
     "name": "stdout",
     "output_type": "stream",
     "text": [
      "Microsoft Windows [Version 10.0.18363.900]\n",
      "(c) 2019 Microsoft Corporation. All rights reserved.\n",
      "\n",
      "(cmpt_419) C:\\justins_files\\School\\CMPT 419\\Project>cd CMPT419-term-project/dataset_unzipped/300VW_Dataset_2015_12_14/001/\n",
      "\n",
      "(cmpt_419) C:\\justins_files\\School\\CMPT 419\\Project\\CMPT419-term-project\\dataset_unzipped\\300VW_Dataset_2015_12_14\\001>ffmpeg -loglevel warning -i vid.avi frames/%d.jpg\n",
      "\n",
      "(cmpt_419) C:\\justins_files\\School\\CMPT 419\\Project\\CMPT419-term-project\\dataset_unzipped\\300VW_Dataset_2015_12_14\\001>"
     ]
    },
    {
     "name": "stderr",
     "output_type": "stream",
     "text": [
      "[swscaler @ 0000018dca907140] deprecated pixel format used, make sure you did set range correctly\n"
     ]
    }
   ],
   "source": [
    "%%cmd\n",
    "cd CMPT419-term-project/dataset_unzipped/300VW_Dataset_2015_12_14/001/\n",
    "ffmpeg -loglevel warning -i vid.avi frames/%d.jpg\n"
   ]
  },
  {
   "cell_type": "code",
   "execution_count": 16,
   "metadata": {},
   "outputs": [
    {
     "name": "stdout",
     "output_type": "stream",
     "text": [
      "Microsoft Windows [Version 10.0.18363.900]\n",
      "(c) 2019 Microsoft Corporation. All rights reserved.\n",
      "\n",
      "(cmpt_419) C:\\justins_files\\School\\CMPT 419\\Project>\n",
      "(cmpt_419) C:\\justins_files\\School\\CMPT 419\\Project>cd CMPT419-term-project/OpenFace_2.2.0_win_x64\n",
      "\n",
      "(cmpt_419) C:\\justins_files\\School\\CMPT 419\\Project\\CMPT419-term-project\\OpenFace_2.2.0_win_x64>\n",
      "(cmpt_419) C:\\justins_files\\School\\CMPT 419\\Project\\CMPT419-term-project\\OpenFace_2.2.0_win_x64>FeatureExtraction.exe -f \"C:\\justins_files\\School\\CMPT 419\\Project\\CMPT419-term-project\\dataset_unzipped\\300VW_Dataset_2015_12_14\\001\\vid.avi\"\n",
      "Reading the landmark detector/tracker from: model/main_ceclm_general.txt\n",
      "Reading the landmark detector module from: model\\cen_general.txt\n",
      "Reading the PDM module from: model\\pdms/In-the-wild_aligned_PDM_68.txt....Done\n",
      "Reading the Triangulations module from: model\\tris_68.txt....Done\n",
      "Reading the intensity CEN patch experts from: model\\patch_experts/cen_patches_0.25_of.dat....Done\n",
      "Reading the intensity CEN patch experts from: model\\patch_experts/cen_patches_0.35_of.dat....Done\n",
      "Reading the intensity CEN patch experts from: model\\patch_experts/cen_patches_0.50_of.dat....Done\n",
      "Reading the intensity CEN patch experts from: model\\patch_experts/cen_patches_1.00_of.dat....Done\n",
      "Reading part based module....left_eye_28\n",
      "Reading the landmark detector/tracker from: model\\model_eye/main_clnf_synth_left.txt\n",
      "Reading the landmark detector module from: model\\model_eye\\clnf_left_synth.txt\n",
      "Reading the PDM module from: model\\model_eye\\pdms/pdm_28_l_eye_3D_closed.txt....Done\n",
      "Reading the intensity CCNF patch experts from: model\\model_eye\\patch_experts/left_ccnf_patches_1.00_synth_lid_.txt....Done\n",
      "Reading the intensity CCNF patch experts from: model\\model_eye\\patch_experts/left_ccnf_patches_1.50_synth_lid_.txt....Done\n",
      "Done\n",
      "Reading part based module....right_eye_28\n",
      "Reading the landmark detector/tracker from: model\\model_eye/main_clnf_synth_right.txt\n",
      "Reading the landmark detector module from: model\\model_eye\\clnf_right_synth.txt\n",
      "Reading the PDM module from: model\\model_eye\\pdms/pdm_28_eye_3D_closed.txt....Done\n",
      "Reading the intensity CCNF patch experts from: model\\model_eye\\patch_experts/ccnf_patches_1.00_synth_lid_.txt....Done\n",
      "Reading the intensity CCNF patch experts from: model\\model_eye\\patch_experts/ccnf_patches_1.50_synth_lid_.txt....Done\n",
      "Done\n",
      "Reading the landmark validation module....Done\n",
      "Reading the AU analysis module from: AU_predictors/main_dynamic_svms.txt\n",
      "Reading the AU predictors from: AU_predictors\\AU_all_best.txt... Done\n",
      "Reading the PDM from: AU_predictors\\In-the-wild_aligned_PDM_68.txt... Done\n",
      "Reading the triangulation from:AU_predictors\\tris_68_full.txt... Done\n",
      "Attempting to read from file: C:\\justins_files\\School\\CMPT 419\\Project\\CMPT419-term-project\\dataset_unzipped\\300VW_Dataset_2015_12_14\\001\\vid.avi\n",
      "Device or file opened\n",
      "Starting tracking\n",
      "Reading the MTCNN face detector from: model/mtcnn_detector/MTCNN_detector.txt\n",
      "Reading the PNet module from: model/mtcnn_detector\\PNet.dat\n",
      "Reading the RNet module from: model/mtcnn_detector\\RNet.dat\n",
      "Reading the ONet module from: model/mtcnn_detector\\ONet.dat\n",
      "0% 10% 20% 30% 40% 50% 60% 70% 80% 90% 100% \n",
      "Closing output recorder\n",
      "Closing input reader\n",
      "Closed successfully\n",
      "Postprocessing the Action Unit predictions\n",
      "\n",
      "(cmpt_419) C:\\justins_files\\School\\CMPT 419\\Project\\CMPT419-term-project\\OpenFace_2.2.0_win_x64>"
     ]
    }
   ],
   "source": [
    "%%cmd\n",
    "\n",
    "cd CMPT419-term-project/OpenFace_2.2.0_win_x64\n",
    "\n",
    "FeatureExtraction.exe -f \"C:\\justins_files\\School\\CMPT 419\\Project\\CMPT419-term-project\\dataset_unzipped\\300VW_Dataset_2015_12_14\\001\\vid.avi\"\n"
   ]
  }
 ],
 "metadata": {
  "kernelspec": {
   "display_name": "Python 3",
   "language": "python",
   "name": "python3"
  },
  "language_info": {
   "codemirror_mode": {
    "name": "ipython",
    "version": 3
   },
   "file_extension": ".py",
   "mimetype": "text/x-python",
   "name": "python",
   "nbconvert_exporter": "python",
   "pygments_lexer": "ipython3",
   "version": "3.7.7"
  }
 },
 "nbformat": 4,
 "nbformat_minor": 4
}
