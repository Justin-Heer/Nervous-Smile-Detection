{
 "cells": [
  {
   "cell_type": "code",
   "execution_count": 1,
   "metadata": {},
   "outputs": [],
   "source": [
    "# import necessary libraries\n",
    "\n",
    "# import built-in libraries\n",
    "import os\n",
    "import pandas as pd\n",
    "import numpy as np\n",
    "from glob import glob\n",
    "import re\n",
    "import matplotlib.pyplot as plt\n",
    "import seaborn as sns\n",
    "\n",
    "# import functions from tslearn\n",
    "from tslearn.utils import to_time_series_dataset\n",
    "from tslearn.preprocessing import TimeSeriesScalerMinMax\n",
    "from tslearn.svm import TimeSeriesSVC\n",
    "from tslearn.neighbors import KNeighborsTimeSeriesClassifier\n",
    "\n",
    "# import functions from sklearn\n",
    "from sklearn.model_selection import train_test_split\n",
    "from sklearn.model_selection import KFold\n",
    "from sklearn.model_selection import GridSearchCV\n",
    "from sklearn.model_selection import cross_val_score\n",
    "from sklearn.metrics import confusion_matrix\n",
    "from sklearn.metrics import classification_report"
   ]
  },
  {
   "cell_type": "code",
   "execution_count": 2,
   "metadata": {},
   "outputs": [],
   "source": [
    "# a function that aggregates all csv files\n",
    "def aggregate_data(csv_dir, label):\n",
    "    \n",
    "    # get the list of all csv files\n",
    "    csv_lst = glob(os.path.join(csv_dir, '*.csv'))\n",
    "    \n",
    "    # compile a regular expression to extract\n",
    "    # the digits part of the file name\n",
    "    r = re.compile('\\D*(\\d*).csv')\n",
    "    \n",
    "    # create a lambda expression with this regular expression\n",
    "    extract_num = lambda x:int(r.search(x).group(1))\n",
    "    \n",
    "    # sort the file name in ascending order\n",
    "    csv_lst.sort(key=extract_num)\n",
    "                               \n",
    "    # create an empty dataframe to hold the results\n",
    "    df = pd.DataFrame()\n",
    "    \n",
    "    # process each csv file in turn\n",
    "    for csv in csv_lst:\n",
    "        \n",
    "        # read in the data from this csv file\n",
    "        df_tmp = pd.read_csv(csv)\n",
    "        \n",
    "        # strip the white spaces before and after the column names\n",
    "        df_tmp.columns = df_tmp.columns.str.strip()\n",
    "        \n",
    "        # add a column to denote the video id\n",
    "        df_tmp['vid'] = extract_num(csv)\n",
    "        \n",
    "        # add another column to denote the label\n",
    "        df_tmp['label'] = label\n",
    "        \n",
    "        # append this dataframe to the aggregated dataframe\n",
    "        df = df.append(df_tmp, ignore_index=True)\n",
    "        \n",
    "        # reset the index without keeping the old one\n",
    "        df.reset_index(drop=True, inplace=True)\n",
    "    \n",
    "    # return the resulting dataframe\n",
    "    return df"
   ]
  },
  {
   "cell_type": "code",
   "execution_count": 3,
   "metadata": {},
   "outputs": [],
   "source": [
    "# a function that sanitizes data\n",
    "def sanitize_data(df):\n",
    "    \n",
    "    # copy the dataset to tmp\n",
    "    df_tmp = df.copy()\n",
    "    \n",
    "    # create a filter that filters out unsuccessful entries\n",
    "    filt1 = df_tmp['success'] != 1\n",
    "    \n",
    "    # remove unsuccessful entries\n",
    "    df_tmp.drop(index=df.loc[filt1].index, inplace=True)\n",
    "    \n",
    "    # create a filter that filters out low-confidence entries\n",
    "    filt2 = df_tmp['confidence'] < 0.8\n",
    "    \n",
    "    # remove low-confidence entries\n",
    "    df_tmp.drop(index=df_tmp.loc[filt2].index, inplace=True)\n",
    "    \n",
    "    # reset the index without keeping the old one\n",
    "    df_tmp.reset_index(drop=True, inplace=True)\n",
    "    \n",
    "    # return the resulting dataframe\n",
    "    return df_tmp"
   ]
  },
  {
   "cell_type": "code",
   "execution_count": 4,
   "metadata": {},
   "outputs": [],
   "source": [
    "# set the root folder of the dataset\n",
    "root = 'dataset'\n",
    "\n",
    "# set the folder that contains the dataset for happy smiles\n",
    "dir_happy = os.path.join(root,'happy_frames_openface')\n",
    "\n",
    "# set the folder that contains the dataset for nervous smiles\n",
    "dir_nervous = os.path.join(root,'nervous_frames_openface')\n",
    "\n",
    "# aggregate the data for happy smiles\n",
    "# the label for happy smiles is 1\n",
    "df_happy = aggregate_data(dir_happy, 1)\n",
    "\n",
    "# aggregate the data for nervous smiles\n",
    "# the label for nervous smiles is 0\n",
    "df_nervous = aggregate_data(dir_nervous, 0)"
   ]
  },
  {
   "cell_type": "code",
   "execution_count": 5,
   "metadata": {},
   "outputs": [],
   "source": [
    "# data sanitizations\n",
    "\n",
    "# the data for the happy smiles\n",
    "df_happy = sanitize_data(df_happy)\n",
    "\n",
    "# the data for the nervous smiles\n",
    "df_nervous = sanitize_data(df_nervous)\n",
    "\n",
    "# save to files\n",
    "df_happy.to_csv('happy_smiles.csv')\n",
    "df_nervous.to_csv('nervous_smiles.csv')"
   ]
  },
  {
   "cell_type": "code",
   "execution_count": 6,
   "metadata": {},
   "outputs": [],
   "source": [
    "# a function that groups frames \n",
    "# belonging to each video\n",
    "def group_featrues(df_features):\n",
    "    \n",
    "    # create an empty list to hold the feature data\n",
    "    lst = []\n",
    "    \n",
    "    # process each entry by video id\n",
    "    for vid in df_features['vid'].unique():\n",
    "        \n",
    "        # create a filter that leave frames\n",
    "        # belonging to this vid alone\n",
    "        filt = df_features['vid'] == vid\n",
    "        \n",
    "        # extract the frames belonging to this vid\n",
    "        # convert to ndarray and add to the list\n",
    "        lst.append(df_features[filt].to_numpy())\n",
    "        \n",
    "    # return the results as a ndarray\n",
    "    return np.array(lst)"
   ]
  },
  {
   "cell_type": "code",
   "execution_count": 7,
   "metadata": {},
   "outputs": [],
   "source": [
    "# feature extraction\n",
    "\n",
    "# selected features for classification\n",
    "features = ['AU06_r','AU12_r', 'AU26_r','vid']\n",
    "\n",
    "# extract features for happy smiles\n",
    "df_happy_features = df_happy.loc[:,features]\n",
    "\n",
    "# extract features for nervous smiles\n",
    "df_nervous_features = df_nervous.loc[:,features]\n",
    "\n",
    "# group features to a ndarray\n",
    "np_happy_features = group_featrues(df_happy_features)\n",
    "np_nervous_features = group_featrues(df_nervous_features)\n",
    "\n",
    "# create a combined features\n",
    "X = np.concatenate([np_happy_features,np_nervous_features])\n",
    "\n",
    "# create a combined labels\n",
    "y = np.concatenate([np.ones(np_happy_features.shape[0]), np.zeros(np_nervous_features.shape[0])])"
   ]
  },
  {
   "cell_type": "code",
   "execution_count": 8,
   "metadata": {},
   "outputs": [],
   "source": [
    "# split the dataset into the training set and test set\n",
    "X_train0,X_test0,y_train,y_test = train_test_split(X, y, shuffle=True, random_state=16, test_size = 0.2)\n",
    "\n",
    "# convert these features to time series\n",
    "\n",
    "# leave out the vids\n",
    "\n",
    "# for training \n",
    "X_train = np.array([X_train0[i][:,:-1] for i in range(X_train0.shape[0])])\n",
    "\n",
    "# for testing\n",
    "X_test = np.array([X_test0[i][:,:-1] for i in range(X_test0.shape[0])])\n",
    "\n",
    "# features from the training set \n",
    "X_train = to_time_series_dataset(X_train)\n",
    "\n",
    "# features from the test set\n",
    "X_test = to_time_series_dataset(X_test)\n",
    "\n",
    "# feature scaling\n",
    "\n",
    "# features from the training set \n",
    "# X_train = TimeSeriesScalerMinMax().fit_transform(X_train)\n",
    "\n",
    "# features from the test set\n",
    "# X_test = TimeSeriesScalerMinMax().fit_transform(X_test)"
   ]
  },
  {
   "cell_type": "code",
   "execution_count": 9,
   "metadata": {},
   "outputs": [
    {
     "name": "stdout",
     "output_type": "stream",
     "text": [
      "The optimal kernel for the kernel SVM is gak\n",
      "The optimal C for the kernel SVM is 3\n"
     ]
    }
   ],
   "source": [
    "# model selection\n",
    "\n",
    "# create a kNN model with the metric of DTW \n",
    "svc = TimeSeriesSVC()\n",
    "\n",
    "# possible k values\n",
    "pgrid = {'kernel': ['gak','rbf'], 'C':list(range(1,10))}\n",
    "\n",
    "# 5-fold cross-validation for training\n",
    "cv = KFold(n_splits=5, shuffle=True, random_state=0)\n",
    "\n",
    "# create a searcher for the optimal value of k\n",
    "grid_search = GridSearchCV(estimator=svc, n_jobs=6, param_grid=pgrid, cv=cv)\n",
    "\n",
    "# SVM parameter tuning with the training set\n",
    "grid_search.fit(X_train, y_train)\n",
    "\n",
    "# get the optimal kernel from the grid search\n",
    "k = grid_search.best_params_['kernel']\n",
    "\n",
    "# get the optimal kernel\n",
    "print(f'The optimal kernel for the kernel SVM is {k}')\n",
    "\n",
    "# get the optimal C, penalty parameter C of the error term\n",
    "# from the grid search\n",
    "c = grid_search.best_params_['C']\n",
    "\n",
    "# get the optimal kernel\n",
    "print(f'The optimal C for the kernel SVM is {c}')"
   ]
  },
  {
   "cell_type": "code",
   "execution_count": 10,
   "metadata": {},
   "outputs": [],
   "source": [
    "# create a optimal SVM model\n",
    "svc_opt = TimeSeriesSVC(kernel=k, C=c, n_jobs=6)\n",
    "\n",
    "# fit the SVM model to the training set\n",
    "svc_opt.fit(X_train, y_train)\n",
    "\n",
    "# predict the labels\n",
    "y_train_predict = svc_opt.predict(X_train)\n",
    "y_test_predict = svc_opt.predict(X_test)"
   ]
  },
  {
   "cell_type": "code",
   "execution_count": 11,
   "metadata": {},
   "outputs": [
    {
     "name": "stdout",
     "output_type": "stream",
     "text": [
      "For training:\n",
      "Correct Joy:[1.0, 2.0, 4.0, 5.0, 6.0, 8.0, 9.0, 11.0, 12.0, 13.0, 14.0, 15.0, 16.0, 17.0, 18.0, 19.0, 20.0, 21.0, 22.0, 23.0, 24.0, 26.0, 27.0, 28.0, 31.0, 34.0, 35.0, 36.0, 37.0, 38.0, 39.0, 40.0, 41.0, 42.0, 43.0, 44.0, 46.0, 47.0, 49.0, 50.0, 51.0, 52.0, 53.0, 54.0, 55.0, 57.0, 58.0, 59.0, 60.0, 62.0, 63.0, 64.0, 65.0, 66.0, 67.0, 68.0, 69.0, 70.0, 71.0, 74.0, 75.0, 76.0, 79.0, 82.0, 83.0, 84.0, 86.0, 87.0, 88.0, 89.0, 90.0, 91.0, 93.0, 94.0, 95.0, 96.0, 97.0, 99.0, 100.0, 101.0, 102.0, 103.0, 105.0, 108.0, 109.0, 110.0, 111.0, 112.0, 113.0, 114.0, 115.0]\n",
      "Wrong Joy:[]\n",
      "Correct Nervous:[0.0, 1.0, 2.0, 3.0, 4.0, 5.0, 6.0, 7.0, 8.0, 9.0, 10.0, 11.0, 13.0, 14.0, 15.0, 16.0, 17.0, 18.0, 19.0, 21.0, 24.0, 28.0, 29.0, 30.0, 31.0, 32.0, 33.0, 34.0, 35.0, 36.0, 39.0, 40.0, 41.0, 44.0, 45.0, 46.0, 47.0, 48.0, 49.0, 51.0, 52.0, 53.0, 54.0, 56.0, 57.0, 58.0, 59.0, 60.0, 61.0, 62.0, 63.0, 64.0, 66.0, 67.0, 68.0, 69.0, 70.0, 72.0, 75.0, 76.0, 77.0, 79.0, 80.0, 81.0, 82.0, 83.0, 84.0, 86.0, 87.0, 90.0, 92.0, 94.0, 95.0, 96.0, 97.0, 98.0, 99.0, 100.0, 101.0, 102.0, 103.0, 104.0, 106.0, 107.0, 108.0, 109.0, 110.0, 111.0, 112.0, 114.0, 115.0]\n",
      "Wrong Nervous:[]\n",
      "\n",
      "For testing:\n",
      "Correct Joy:[0.0, 3.0, 7.0, 10.0, 25.0, 29.0, 30.0, 32.0, 33.0, 48.0, 61.0, 72.0, 85.0, 92.0, 104.0, 106.0, 107.0]\n",
      "Wrong Joy:[45.0, 56.0, 73.0, 80.0, 81.0, 98.0]\n",
      "Correct Nervous:[23.0, 26.0, 37.0, 43.0, 55.0, 71.0, 73.0, 74.0, 78.0, 85.0, 91.0, 93.0]\n",
      "Wrong Nervous:[12.0, 20.0, 22.0, 25.0, 27.0, 38.0, 42.0, 88.0, 89.0, 105.0, 113.0]\n"
     ]
    }
   ],
   "source": [
    "# statistics\n",
    "\n",
    "# correctly classified joyful smiles\n",
    "r_joy_lst = []\n",
    "\n",
    "# correctly classified nervous smiles\n",
    "r_nervous_lst = []\n",
    "\n",
    "# wrongly classified joyful smiles\n",
    "w_joy_lst = []\n",
    "\n",
    "# wrongly classified nervous smiles\n",
    "w_nervous_lst = []\n",
    "\n",
    "# check the results\n",
    "for i in range(y_train.shape[0]):\n",
    "    if y_train[i] == y_train_predict[i]:\n",
    "        if y_train[i] == 1:\n",
    "            obj = r_joy_lst\n",
    "        else:\n",
    "            obj = r_nervous_lst\n",
    "    else:\n",
    "        if y_train[i] == 1:\n",
    "            obj = w_joy_lst\n",
    "        else:\n",
    "            obj = w_nervous_lst\n",
    "    obj.append(X_train0[i][0][3])\n",
    "    \n",
    "# sort these lists\n",
    "r_joy_lst.sort()\n",
    "r_nervous_lst.sort()\n",
    "w_joy_lst.sort()\n",
    "w_nervous_lst.sort()\n",
    "\n",
    "# print the results\n",
    "print(\"For training:\")\n",
    "print('Correct Joy:'+str(r_joy_lst))\n",
    "print('Wrong Joy:'+str(w_joy_lst))\n",
    "print('Correct Nervous:'+str(r_nervous_lst))\n",
    "print('Wrong Nervous:'+str(w_nervous_lst))\n",
    "\n",
    "# correctly classified joyful smiles\n",
    "r_joy_lst = []\n",
    "\n",
    "# correctly classified nervous smiles\n",
    "r_nervous_lst = []\n",
    "\n",
    "# wrongly classified joyful smiles\n",
    "w_joy_lst = []\n",
    "\n",
    "# wrongly classified nervous smiles\n",
    "w_nervous_lst = []\n",
    "\n",
    "# check the results\n",
    "for i in range(y_test.shape[0]):\n",
    "    if y_test[i] == y_test_predict[i]:\n",
    "        if y_test[i] == 1:\n",
    "            obj = r_joy_lst\n",
    "        else:\n",
    "            obj = r_nervous_lst\n",
    "    else:\n",
    "        if y_test[i] == 1:\n",
    "            obj = w_joy_lst\n",
    "        else:\n",
    "            obj = w_nervous_lst\n",
    "    obj.append(X_test0[i][0][3])\n",
    "    \n",
    "# sort these lists\n",
    "r_joy_lst.sort()\n",
    "r_nervous_lst.sort()\n",
    "w_joy_lst.sort()\n",
    "w_nervous_lst.sort()\n",
    "\n",
    "# print the results\n",
    "print(\"\\nFor testing:\")\n",
    "print('Correct Joy:'+str(r_joy_lst))\n",
    "print('Wrong Joy:'+str(w_joy_lst))\n",
    "print('Correct Nervous:'+str(r_nervous_lst))\n",
    "print('Wrong Nervous:'+str(w_nervous_lst))\n"
   ]
  },
  {
   "cell_type": "code",
   "execution_count": 12,
   "metadata": {},
   "outputs": [
    {
     "name": "stdout",
     "output_type": "stream",
     "text": [
      "The average accuracy of training is 68.65%\n",
      "              precision    recall  f1-score   support\n",
      "\n",
      "         0.0       1.00      1.00      1.00        91\n",
      "         1.0       1.00      1.00      1.00        91\n",
      "\n",
      "    accuracy                           1.00       182\n",
      "   macro avg       1.00      1.00      1.00       182\n",
      "weighted avg       1.00      1.00      1.00       182\n",
      "\n",
      "The confusion matrix for training:\n",
      "[[91  0]\n",
      " [ 0 91]]\n"
     ]
    },
    {
     "data": {
      "image/png": "[encoded data removed]",
      "text/plain": [
       "<Figure size 432x288 with 2 Axes>"
      ]
     },
     "metadata": {
      "needs_background": "light"
     },
     "output_type": "display_data"
    }
   ],
   "source": [
    "# get the training accuracy\n",
    "# use 5-fold cross-validation\n",
    "cvs_trn = cross_val_score(svc_opt, X_train, y_train, cv=5, scoring=\"accuracy\")\n",
    "\n",
    "# report the mean accuracy of training\n",
    "print(f'The average accuracy of training is {np.mean(cvs_trn)*100:.2f}%')\n",
    "\n",
    "# print classification report\n",
    "print(classification_report(y_train, y_train_predict))\n",
    "\n",
    "# compute the confusion matrix\n",
    "cm_train = confusion_matrix(y_train, y_train_predict)\n",
    "\n",
    "# display the confusion matrix\n",
    "print('The confusion matrix for training:')\n",
    "print(cm_train)\n",
    "\n",
    "# plot the confusion matrix\n",
    "# as a seaborn heatmap\n",
    "\n",
    "# plot the heat map\n",
    "heat_map = sns.heatmap(cm_train, annot=True, cmap='hot')\n",
    "\n",
    "# set the tick labels\n",
    "heat_map.set_xticklabels(['Predicted Nervous', 'Predicted Joyful'],\n",
    "                         fontdict={'horizontalalignment': 'center'})\n",
    "\n",
    "heat_map.set_yticklabels(['True Nervous', 'True Joyful'],\n",
    "                         fontdict={'verticalalignment': 'center'})\n",
    "\n",
    "# set the title\n",
    "heat_map.set_title('The Confusion Matrix')\n",
    "\n",
    "# show the plot\n",
    "plt.show()"
   ]
  },
  {
   "cell_type": "code",
   "execution_count": 13,
   "metadata": {},
   "outputs": [
    {
     "name": "stdout",
     "output_type": "stream",
     "text": [
      "The average accuracy of testing is 54.67%\n",
      "              precision    recall  f1-score   support\n",
      "\n",
      "         0.0       0.67      0.52      0.59        23\n",
      "         1.0       0.61      0.74      0.67        23\n",
      "\n",
      "    accuracy                           0.63        46\n",
      "   macro avg       0.64      0.63      0.63        46\n",
      "weighted avg       0.64      0.63      0.63        46\n",
      "\n",
      "The confusion matrix for testing:\n",
      "[[12 11]\n",
      " [ 6 17]]\n"
     ]
    },
    {
     "data": {
      "image/png": "[encoded data removed]",
      "text/plain": [
       "<Figure size 432x288 with 2 Axes>"
      ]
     },
     "metadata": {
      "needs_background": "light"
     },
     "output_type": "display_data"
    }
   ],
   "source": [
    "# get the testing accuracy\n",
    "# use 5-fold cross-validation\n",
    "cvs_test = cross_val_score(svc_opt, X_test, y_test, cv=5, scoring=\"accuracy\")\n",
    "\n",
    "# report the mean accuracy of training\n",
    "print(f'The average accuracy of testing is {np.mean(cvs_test)*100:.2f}%')\n",
    "\n",
    "# print classification report\n",
    "print(classification_report(y_test, y_test_predict))\n",
    "\n",
    "# compute the confusion matrix\n",
    "cm_test = confusion_matrix(y_test, y_test_predict)\n",
    "\n",
    "# display the confusion matrix\n",
    "print('The confusion matrix for testing:')\n",
    "print(cm_test)\n",
    "\n",
    "# plot the confusion matrix\n",
    "# as a seaborn heatmap\n",
    "\n",
    "# plot the heat map\n",
    "heat_map = sns.heatmap(cm_test, annot=True, cmap='hot')\n",
    "\n",
    "# set the tick labels\n",
    "heat_map.set_xticklabels(['Predicted Nervous', 'Predicted Joyful'],\n",
    "                         fontdict={'horizontalalignment': 'center'})\n",
    "\n",
    "heat_map.set_yticklabels(['True Nervous', 'True Joyful'],\n",
    "                         fontdict={'verticalalignment': 'center'})\n",
    "\n",
    "# set the title\n",
    "heat_map.set_title('The Confusion Matrix')\n",
    "\n",
    "# show the plot\n",
    "plt.show()"
   ]
  },
  {
   "cell_type": "code",
   "execution_count": 14,
   "metadata": {},
   "outputs": [
    {
     "name": "stdout",
     "output_type": "stream",
     "text": [
      "The optimal value of k is 2 for time series kNN~\n"
     ]
    }
   ],
   "source": [
    "# model selection\n",
    "\n",
    "# create a kNN model with the metric of DTW \n",
    "knn = KNeighborsTimeSeriesClassifier(metric=\"dtw\")\n",
    "\n",
    "# possible k values\n",
    "pgrid = {\"n_neighbors\": list(range(1, 3))}\n",
    "\n",
    "# 5-fold cross-validation for training\n",
    "cv = KFold(n_splits=5, shuffle=True, random_state=0)\n",
    "\n",
    "# create a searcher for the optimal value of k\n",
    "grid_search = GridSearchCV(estimator=knn, n_jobs=6, param_grid=pgrid, cv=cv)\n",
    "\n",
    "# kNN model tuning with the training set\n",
    "grid_search.fit(X_train, y_train)\n",
    "\n",
    "# get the best parameter from the grid search\n",
    "k_opt = grid_search.best_params_['n_neighbors']\n",
    "\n",
    "# get the optimal value of k\n",
    "print(f'The optimal value of k is {k_opt} for time series kNN~')"
   ]
  },
  {
   "cell_type": "code",
   "execution_count": 15,
   "metadata": {},
   "outputs": [],
   "source": [
    "# create a kNN model with the optimal value of k\n",
    "knn_opt = KNeighborsTimeSeriesClassifier(n_neighbors=k_opt, metric=\"dtw\", n_jobs=6)\n",
    "\n",
    "# fit the kNN model to the training set\n",
    "knn_opt.fit(X_train, y_train)\n",
    "\n",
    "# predict the labels\n",
    "y_train_predict = knn_opt.predict(X_train)\n",
    "y_test_predict = knn_opt.predict(X_test)"
   ]
  },
  {
   "cell_type": "code",
   "execution_count": 16,
   "metadata": {},
   "outputs": [
    {
     "name": "stdout",
     "output_type": "stream",
     "text": [
      "The average accuracy of training is 69.25%\n",
      "              precision    recall  f1-score   support\n",
      "\n",
      "         0.0       0.75      1.00      0.85        91\n",
      "         1.0       1.00      0.66      0.79        91\n",
      "\n",
      "    accuracy                           0.83       182\n",
      "   macro avg       0.87      0.83      0.82       182\n",
      "weighted avg       0.87      0.83      0.82       182\n",
      "\n",
      "The confusion matrix for training:\n",
      "[[91  0]\n",
      " [31 60]]\n"
     ]
    },
    {
     "data": {
      "image/png": "[encoded data removed]",
      "text/plain": [
       "<Figure size 432x288 with 2 Axes>"
      ]
     },
     "metadata": {
      "needs_background": "light"
     },
     "output_type": "display_data"
    }
   ],
   "source": [
    "# get the testing accuracy\n",
    "# use 5-fold cross-validation\n",
    "cvs_train = cross_val_score(knn_opt, X_train, y_train, cv=5, scoring=\"accuracy\")\n",
    "\n",
    "# report the mean accuracy of training\n",
    "print(f'The average accuracy of training is {np.mean(cvs_train)*100:.2f}%')\n",
    "\n",
    "# print classification report\n",
    "print(classification_report(y_train, y_train_predict))\n",
    "\n",
    "# compute the confusion matrix\n",
    "cm_train = confusion_matrix(y_train, y_train_predict)\n",
    "\n",
    "# display the confusion matrix\n",
    "print('The confusion matrix for training:')\n",
    "print(cm_train)\n",
    "\n",
    "# plot the confusion matrix\n",
    "# as a seaborn heatmap\n",
    "\n",
    "# plot the heat map\n",
    "heat_map = sns.heatmap(cm_train, annot=True, cmap='hot')\n",
    "\n",
    "# set the tick labels\n",
    "heat_map.set_xticklabels(['Predicted Nervous', 'Predicted Joyful'],\n",
    "                         fontdict={'horizontalalignment': 'center'})\n",
    "\n",
    "heat_map.set_yticklabels(['True Nervous', 'True Joyful'],\n",
    "                         fontdict={'verticalalignment': 'center'})\n",
    "\n",
    "# set the title\n",
    "heat_map.set_title('The Confusion Matrix(For Training)')\n",
    "\n",
    "# show the plot\n",
    "plt.show()"
   ]
  },
  {
   "cell_type": "code",
   "execution_count": 17,
   "metadata": {},
   "outputs": [
    {
     "name": "stdout",
     "output_type": "stream",
     "text": [
      "The average accuracy of testing is 65.33%\n",
      "              precision    recall  f1-score   support\n",
      "\n",
      "         0.0       0.57      0.91      0.70        23\n",
      "         1.0       0.78      0.30      0.44        23\n",
      "\n",
      "    accuracy                           0.61        46\n",
      "   macro avg       0.67      0.61      0.57        46\n",
      "weighted avg       0.67      0.61      0.57        46\n",
      "\n",
      "The confusion matrix for testing:\n",
      "[[21  2]\n",
      " [16  7]]\n"
     ]
    },
    {
     "data": {
      "image/png": "[encoded data removed]",
      "text/plain": [
       "<Figure size 432x288 with 2 Axes>"
      ]
     },
     "metadata": {
      "needs_background": "light"
     },
     "output_type": "display_data"
    }
   ],
   "source": [
    "# get the testing accuracy\n",
    "# use 5-fold cross-validation\n",
    "cvs_test = cross_val_score(knn_opt, X_test, y_test, cv=5, scoring=\"accuracy\")\n",
    "\n",
    "# report the mean accuracy of training\n",
    "print(f'The average accuracy of testing is {np.mean(cvs_test)*100:.2f}%')\n",
    "\n",
    "# print classification report\n",
    "print(classification_report(y_test, y_test_predict))\n",
    "\n",
    "# compute the confusion matrix\n",
    "cm_test = confusion_matrix(y_test, y_test_predict)\n",
    "\n",
    "# display the confusion matrix\n",
    "print('The confusion matrix for testing:')\n",
    "print(cm_test)\n",
    "\n",
    "# plot the confusion matrix\n",
    "# as a seaborn heatmap\n",
    "\n",
    "# plot the heat map\n",
    "heat_map = sns.heatmap(cm_test, annot=True, cmap='hot')\n",
    "\n",
    "# set the tick labels\n",
    "heat_map.set_xticklabels(['Predicted Nervous', 'Predicted Joyful'],\n",
    "                         fontdict={'horizontalalignment': 'center'})\n",
    "\n",
    "heat_map.set_yticklabels(['True Nervous', 'True Joyful'],\n",
    "                         fontdict={'verticalalignment': 'center'})\n",
    "\n",
    "# set the title\n",
    "heat_map.set_title('The Confusion Matrix(For Testing)')\n",
    "\n",
    "# show the plot\n",
    "plt.show()"
   ]
  },
  {
   "cell_type": "code",
   "execution_count": 18,
   "metadata": {},
   "outputs": [
    {
     "data": {
      "text/plain": [
       "25.398000000000007"
      ]
     },
     "execution_count": 18,
     "metadata": {},
     "output_type": "execute_result"
    }
   ],
   "source": [
    "svc_opt.gamma_"
   ]
  },
  {
   "cell_type": "code",
   "execution_count": 19,
   "metadata": {},
   "outputs": [
    {
     "data": {
      "text/plain": [
       "'auto'"
      ]
     },
     "execution_count": 19,
     "metadata": {},
     "output_type": "execute_result"
    }
   ],
   "source": [
    "svc_opt.gamma"
   ]
  },
  {
   "cell_type": "code",
   "execution_count": 20,
   "metadata": {},
   "outputs": [
    {
     "data": {
      "text/plain": [
       "25.398000000000007"
      ]
     },
     "execution_count": 20,
     "metadata": {},
     "output_type": "execute_result"
    }
   ],
   "source": [
    "svc_opt.gamma_"
   ]
  },
  {
   "cell_type": "code",
   "execution_count": null,
   "metadata": {},
   "outputs": [],
   "source": []
  }
 ],
 "metadata": {
  "kernelspec": {
   "display_name": "Python 3",
   "language": "python",
   "name": "python3"
  },
  "language_info": {
   "codemirror_mode": {
    "name": "ipython",
    "version": 3
   },
   "file_extension": ".py",
   "mimetype": "text/x-python",
   "name": "python",
   "nbconvert_exporter": "python",
   "pygments_lexer": "ipython3",
   "version": "3.8.2"
  }
 },
 "nbformat": 4,
 "nbformat_minor": 4
}
