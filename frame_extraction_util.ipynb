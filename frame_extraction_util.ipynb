{
 "cells": [
  {
   "cell_type": "markdown",
   "metadata": {},
   "source": [
    "#### temp personal notes\n",
    "https://www.youtube.com/watch?v=_r2V_OHKdu8\n",
    "4:04,4:06\n",
    "10:09,10:12\n",
    "###\n"
   ]
  },
  {
   "cell_type": "markdown",
   "metadata": {},
   "source": [
    "#### cut out section"
   ]
  },
  {
   "cell_type": "code",
   "execution_count": 197,
   "metadata": {},
   "outputs": [
    {
     "name": "stdout",
     "output_type": "stream",
     "text": [
      "Microsoft Windows [Version 10.0.18363.959]\n",
      "(c) 2019 Microsoft Corporation. All rights reserved.\n",
      "\n",
      "(cmpt419-project) C:\\justins_files\\School\\CMPT 419\\Project\\CMPT419-term-project>cd dataset/vids\n",
      "\n",
      "(cmpt419-project) C:\\justins_files\\School\\CMPT 419\\Project\\CMPT419-term-project\\dataset\\vids>ffmpeg -loglevel warning -i BestTVNewsBloopersOfTheDecade.mp4 -ss 27:13 -to 27:16 test.mp4 -y\n",
      "\n",
      "(cmpt419-project) C:\\justins_files\\School\\CMPT 419\\Project\\CMPT419-term-project\\dataset\\vids>"
     ]
    }
   ],
   "source": [
    "%%cmd\n",
    "cd dataset/vids\n",
    "ffmpeg -loglevel warning -i BestTVNewsBloopersOfTheDecade.mp4 -ss 27:13 -to 27:16 test.mp4 -y\n"
   ]
  },
  {
   "cell_type": "markdown",
   "metadata": {},
   "source": [
    "### Crop"
   ]
  },
  {
   "cell_type": "code",
   "execution_count": 194,
   "metadata": {},
   "outputs": [
    {
     "name": "stdout",
     "output_type": "stream",
     "text": [
      "Microsoft Windows [Version 10.0.18363.959]\n",
      "(c) 2019 Microsoft Corporation. All rights reserved.\n",
      "\n",
      "(cmpt419-project) C:\\justins_files\\School\\CMPT 419\\Project\\CMPT419-term-project>cd dataset/vids\n",
      "\n",
      "(cmpt419-project) C:\\justins_files\\School\\CMPT 419\\Project\\CMPT419-term-project\\dataset\\vids>ffmpeg -loglevel warning -i test.mp4 -filter:v \"crop=300:400:100:0 \" cropped.mp4 -y\n",
      "\n",
      "(cmpt419-project) C:\\justins_files\\School\\CMPT 419\\Project\\CMPT419-term-project\\dataset\\vids>"
     ]
    }
   ],
   "source": [
    "%%cmd\n",
    "cd dataset/vids\n",
    "ffmpeg -loglevel warning -i test.mp4 -filter:v \"crop=300:400:100:0 \" cropped.mp4 -y"
   ]
  },
  {
   "cell_type": "markdown",
   "metadata": {},
   "source": [
    "### Frames\n"
   ]
  },
  {
   "cell_type": "code",
   "execution_count": 198,
   "metadata": {},
   "outputs": [
    {
     "name": "stdout",
     "output_type": "stream",
     "text": [
      "Microsoft Windows [Version 10.0.18363.959]\n",
      "(c) 2019 Microsoft Corporation. All rights reserved.\n",
      "\n",
      "(cmpt419-project) C:\\justins_files\\School\\CMPT 419\\Project\\CMPT419-term-project>cd dataset/vids\n",
      "\n",
      "(cmpt419-project) C:\\justins_files\\School\\CMPT 419\\Project\\CMPT419-term-project\\dataset\\vids>ffmpeg -loglevel warning -i test.mp4 %d.jpg\n",
      "\n",
      "(cmpt419-project) C:\\justins_files\\School\\CMPT 419\\Project\\CMPT419-term-project\\dataset\\vids>"
     ]
    },
    {
     "name": "stderr",
     "output_type": "stream",
     "text": [
      "[swscaler @ 00000180914f5c40] deprecated pixel format used, make sure you did set range correctly\n"
     ]
    }
   ],
   "source": [
    "%%cmd\n",
    "cd dataset/vids\n",
    "ffmpeg -loglevel warning -i test.mp4 %d.jpg\n"
   ]
  },
  {
   "cell_type": "markdown",
   "metadata": {},
   "source": [
    "### Run openface on the frames"
   ]
  },
  {
   "cell_type": "code",
   "execution_count": 33,
   "metadata": {},
   "outputs": [
    {
     "name": "stdout",
     "output_type": "stream",
     "text": [
      "Microsoft Windows [Version 10.0.18363.959]\n",
      "(c) 2019 Microsoft Corporation. All rights reserved.\n",
      "\n",
      "(cmpt419-project) C:\\justins_files\\School\\CMPT 419\\Project\\CMPT419-term-project>\n",
      "(cmpt419-project) C:\\justins_files\\School\\CMPT 419\\Project\\CMPT419-term-project>cd OpenFace_2.2.0_win_x64\n",
      "\n",
      "(cmpt419-project) C:\\justins_files\\School\\CMPT 419\\Project\\CMPT419-term-project\\OpenFace_2.2.0_win_x64>FeatureExtraction.exe -fdir \"C:\\justins_files\\School\\CMPT 419\\Project\\CMPT419-term-project\\dataset\\nervous_frames\\_0\"\n",
      "Reading the landmark detector/tracker from: model/main_ceclm_general.txt\n",
      "Reading the landmark detector module from: model\\cen_general.txt\n",
      "Reading the PDM module from: model\\pdms/In-the-wild_aligned_PDM_68.txt....Done\n",
      "Reading the Triangulations module from: model\\tris_68.txt....Done\n",
      "Reading the intensity CEN patch experts from: model\\patch_experts/cen_patches_0.25_of.dat....Done\n",
      "Reading the intensity CEN patch experts from: model\\patch_experts/cen_patches_0.35_of.dat....Done\n",
      "Reading the intensity CEN patch experts from: model\\patch_experts/cen_patches_0.50_of.dat....Done\n",
      "Reading the intensity CEN patch experts from: model\\patch_experts/cen_patches_1.00_of.dat....Done\n",
      "Reading part based module....left_eye_28\n",
      "Reading the landmark detector/tracker from: model\\model_eye/main_clnf_synth_left.txt\n",
      "Reading the landmark detector module from: model\\model_eye\\clnf_left_synth.txt\n",
      "Reading the PDM module from: model\\model_eye\\pdms/pdm_28_l_eye_3D_closed.txt....Done\n",
      "Reading the intensity CCNF patch experts from: model\\model_eye\\patch_experts/left_ccnf_patches_1.00_synth_lid_.txt....Done\n",
      "Reading the intensity CCNF patch experts from: model\\model_eye\\patch_experts/left_ccnf_patches_1.50_synth_lid_.txt....Done\n",
      "Done\n",
      "Reading part based module....right_eye_28\n",
      "Reading the landmark detector/tracker from: model\\model_eye/main_clnf_synth_right.txt\n",
      "Reading the landmark detector module from: model\\model_eye\\clnf_right_synth.txt\n",
      "Reading the PDM module from: model\\model_eye\\pdms/pdm_28_eye_3D_closed.txt....Done\n",
      "Reading the intensity CCNF patch experts from: model\\model_eye\\patch_experts/ccnf_patches_1.00_synth_lid_.txt....Done\n",
      "Reading the intensity CCNF patch experts from: model\\model_eye\\patch_experts/ccnf_patches_1.50_synth_lid_.txt....Done\n",
      "Done\n",
      "Reading the landmark validation module....Done\n",
      "Reading the AU analysis module from: AU_predictors/main_dynamic_svms.txt\n",
      "Reading the AU predictors from: AU_predictors\\AU_all_best.txt... Done\n",
      "Reading the PDM from: AU_predictors\\In-the-wild_aligned_PDM_68.txt... Done\n",
      "Reading the triangulation from:AU_predictors\\tris_68_full.txt... Done\n",
      "Attempting to read from directory: C:\\justins_files\\School\\CMPT 419\\Project\\CMPT419-term-project\\dataset\\nervous_frames\\_0\n",
      "Device or file opened\n",
      "Starting tracking\n",
      "Reading the MTCNN face detector from: model/mtcnn_detector/MTCNN_detector.txt\n",
      "Reading the PNet module from: model/mtcnn_detector\\PNet.dat\n",
      "Reading the RNet module from: model/mtcnn_detector\\RNet.dat\n",
      "Reading the ONet module from: model/mtcnn_detector\\ONet.dat\n",
      "0% 10% 20% 30% 40% 50% 60% 70% 80% 90% 100% \n",
      "Closing output recorder\n",
      "Closing input reader\n",
      "Closed successfully\n",
      "Postprocessing the Action Unit predictions\n",
      "\n",
      "(cmpt419-project) C:\\justins_files\\School\\CMPT 419\\Project\\CMPT419-term-project\\OpenFace_2.2.0_win_x64>"
     ]
    }
   ],
   "source": [
    "%%cmd\n",
    "\n",
    "cd OpenFace_2.2.0_win_x64\n",
    "FeatureExtraction.exe -fdir \"C:\\justins_files\\School\\CMPT 419\\Project\\CMPT419-term-project\\dataset\\nervous_frames\\_0\""
   ]
  },
  {
   "cell_type": "code",
   "execution_count": 19,
   "metadata": {},
   "outputs": [
    {
     "name": "stdout",
     "output_type": "stream",
     "text": [
      "Microsoft Windows [Version 10.0.18363.959]\n",
      "(c) 2019 Microsoft Corporation. All rights reserved.\n",
      "\n",
      "(cmpt419-project) C:\\justins_files\\School\\CMPT 419\\Project\\CMPT419-term-project>cd dataset\\nervous_vids\n",
      "\n",
      "(cmpt419-project) C:\\justins_files\\School\\CMPT 419\\Project\\CMPT419-term-project\\dataset\\nervous_vids>ffmpeg -i videoplayback.webm comaInducingCringeCompilation.mp4\n",
      "\n",
      "(cmpt419-project) C:\\justins_files\\School\\CMPT 419\\Project\\CMPT419-term-project\\dataset\\nervous_vids>"
     ]
    },
    {
     "name": "stderr",
     "output_type": "stream",
     "text": [
      "ffmpeg version git-2020-06-04-7f81785 Copyright (c) 2000-2020 the FFmpeg developers\n",
      "  built with gcc 9.3.1 (GCC) 20200523\n",
      "  configuration: --enable-gpl --enable-version3 --enable-sdl2 --enable-fontconfig --enable-gnutls --enable-iconv --enable-libass --enable-libdav1d --enable-libbluray --enable-libfreetype --enable-libmp3lame --enable-libopencore-amrnb --enable-libopencore-amrwb --enable-libopenjpeg --enable-libopus --enable-libshine --enable-libsnappy --enable-libsoxr --enable-libsrt --enable-libtheora --enable-libtwolame --enable-libvpx --enable-libwavpack --enable-libwebp --enable-libx264 --enable-libx265 --enable-libxml2 --enable-libzimg --enable-lzma --enable-zlib --enable-gmp --enable-libvidstab --enable-libvmaf --enable-libvorbis --enable-libvo-amrwbenc --enable-libmysofa --enable-libspeex --enable-libxvid --enable-libaom --disable-w32threads --enable-libmfx --enable-ffnvcodec --enable-cuda-llvm --enable-cuvid --enable-d3d11va --enable-nvenc --enable-nvdec --enable-dxva2 --enable-avisynth --enable-libopenmpt --enable-amf\n",
      "  libavutil      56. 49.100 / 56. 49.100\n",
      "  libavcodec     58. 90.100 / 58. 90.100\n",
      "  libavformat    58. 44.100 / 58. 44.100\n",
      "  libavdevice    58.  9.103 / 58.  9.103\n",
      "  libavfilter     7. 84.100 /  7. 84.100\n",
      "  libswscale      5.  6.101 /  5.  6.101\n",
      "  libswresample   3.  6.100 /  3.  6.100\n",
      "  libpostproc    55.  6.100 / 55.  6.100\n",
      "Input #0, matroska,webm, from 'videoplayback.webm':\n",
      "  Metadata:\n",
      "    encoder         : google/video-file\n",
      "  Duration: 00:06:31.86, start: 0.000000, bitrate: 376 kb/s\n",
      "    Stream #0:0(eng): Video: vp9 (Profile 0), yuv420p(tv, bt709), 854x480, SAR 1:1 DAR 427:240, 29.97 fps, 29.97 tbr, 1k tbn, 1k tbc (default)\n",
      "Stream mapping:\n",
      "  Stream #0:0 -> #0:0 (vp9 (native) -> h264 (libx264))\n",
      "Press [q] to stop, [?] for help\n",
      "[libx264 @ 0000024e593e3540] using SAR=1/1\n",
      "[libx264 @ 0000024e593e3540] using cpu capabilities: MMX2 SSE2Fast SSSE3 SSE4.2 AVX FMA3 BMI2 AVX2\n",
      "[libx264 @ 0000024e593e3540] profile High, level 3.1, 4:2:0, 8-bit\n",
      "[libx264 @ 0000024e593e3540] 264 - core 160 - H.264/MPEG-4 AVC codec - Copyleft 2003-2020 - http://www.videolan.org/x264.html - options: cabac=1 ref=3 deblock=1:0:0 analyse=0x3:0x113 me=hex subme=7 psy=1 psy_rd=1.00:0.00 mixed_ref=1 me_range=16 chroma_me=1 trellis=1 8x8dct=1 cqm=0 deadzone=21,11 fast_pskip=1 chroma_qp_offset=-2 threads=15 lookahead_threads=2 sliced_threads=0 nr=0 decimate=1 interlaced=0 bluray_compat=0 constrained_intra=0 bframes=3 b_pyramid=2 b_adapt=1 b_bias=0 direct=1 weightb=1 open_gop=0 weightp=2 keyint=250 keyint_min=25 scenecut=40 intra_refresh=0 rc_lookahead=40 rc=crf mbtree=1 crf=23.0 qcomp=0.60 qpmin=0 qpmax=69 qpstep=4 ip_ratio=1.40 aq=1:1.00\n",
      "Output #0, mp4, to 'comaInducingCringeCompilation.mp4':\n",
      "  Metadata:\n",
      "    encoder         : Lavf58.44.100\n",
      "    Stream #0:0(eng): Video: h264 (libx264) (avc1 / 0x31637661), yuv420p, 854x480 [SAR 1:1 DAR 427:240], q=-1--1, 29.97 fps, 30k tbn, 29.97 tbc (default)\n",
      "    Metadata:\n",
      "      encoder         : Lavc58.90.100 libx264\n",
      "    Side data:\n",
      "      cpb: bitrate max/min/avg: 0/0/0 buffer size: 0 vbv_delay: N/A\n",
      "frame=11744 fps=429 q=-1.0 Lsize=   33448kB time=00:06:31.75 bitrate= 699.4kbits/s speed=14.3x    \n",
      "video:33313kB audio:0kB subtitle:0kB other streams:0kB global headers:0kB muxing overhead: 0.404589%\n",
      "[libx264 @ 0000024e593e3540] frame I:88    Avg QP:19.61  size: 29687\n",
      "[libx264 @ 0000024e593e3540] frame P:3542  Avg QP:22.40  size:  5799\n",
      "[libx264 @ 0000024e593e3540] frame B:8114  Avg QP:26.93  size:  1351\n",
      "[libx264 @ 0000024e593e3540] consecutive B-frames:  5.3%  5.4%  7.1% 82.3%\n",
      "[libx264 @ 0000024e593e3540] mb I  I16..4: 10.7% 72.6% 16.7%\n",
      "[libx264 @ 0000024e593e3540] mb P  I16..4:  3.8% 10.4%  0.9%  P16..4: 29.6%  9.6%  4.3%  0.0%  0.0%    skip:41.3%\n",
      "[libx264 @ 0000024e593e3540] mb B  I16..4:  0.3%  0.6%  0.0%  B16..8: 28.5%  2.6%  0.5%  direct: 1.0%  skip:66.4%  L0:47.6% L1:47.6% BI: 4.8%\n",
      "[libx264 @ 0000024e593e3540] 8x8 transform intra:69.0% inter:79.5%\n",
      "[libx264 @ 0000024e593e3540] coded y,uvDC,uvAC intra: 42.0% 37.3% 11.4% inter: 7.0% 5.9% 0.3%\n",
      "[libx264 @ 0000024e593e3540] i16 v,h,dc,p: 31% 31%  9% 30%\n",
      "[libx264 @ 0000024e593e3540] i8 v,h,dc,ddl,ddr,vr,hd,vl,hu: 28% 22% 22%  3%  4%  5%  5%  5%  5%\n",
      "[libx264 @ 0000024e593e3540] i4 v,h,dc,ddl,ddr,vr,hd,vl,hu: 26% 26% 13%  4%  7%  7%  7%  5%  5%\n",
      "[libx264 @ 0000024e593e3540] i8c dc,h,v,p: 61% 17% 17%  5%\n",
      "[libx264 @ 0000024e593e3540] Weighted P-Frames: Y:3.8% UV:1.5%\n",
      "[libx264 @ 0000024e593e3540] ref P L0: 65.5% 14.8% 14.4%  5.2%  0.2%\n",
      "[libx264 @ 0000024e593e3540] ref B L0: 91.0%  7.4%  1.6%\n",
      "[libx264 @ 0000024e593e3540] ref B L1: 96.8%  3.2%\n",
      "[libx264 @ 0000024e593e3540] kb/s:696.41\n"
     ]
    }
   ],
   "source": [
    "%%cmd\n",
    "cd dataset\\nervous_vids\n",
    "ffmpeg -i videoplayback.webm comaInducingCringeCompilation.mp4"
   ]
  }
 ],
 "metadata": {
  "kernelspec": {
   "display_name": "Python 3",
   "language": "python",
   "name": "python3"
  },
  "language_info": {
   "codemirror_mode": {
    "name": "ipython",
    "version": 3
   },
   "file_extension": ".py",
   "mimetype": "text/x-python",
   "name": "python",
   "nbconvert_exporter": "python",
   "pygments_lexer": "ipython3",
   "version": "3.7.7"
  }
 },
 "nbformat": 4,
 "nbformat_minor": 4
}
