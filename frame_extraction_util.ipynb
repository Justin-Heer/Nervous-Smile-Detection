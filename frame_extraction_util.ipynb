{
 "cells": [
  {
   "cell_type": "markdown",
   "metadata": {},
   "source": [
    "### README\n",
    "This notebook was used to trim,crop and extract frames from videos. It was used heavily so we thought to include it in our submission, however there is not much to look at here other than ffmpeg command line calls. No video files are stored in the\n",
    "root directory, so the function calls will fail if executed as is. "
   ]
  },
  {
   "cell_type": "markdown",
   "metadata": {},
   "source": [
    "### Trim"
   ]
  },
  {
   "cell_type": "code",
   "execution_count": 197,
   "metadata": {},
   "outputs": [
    {
     "name": "stdout",
     "output_type": "stream",
     "text": [
      "Microsoft Windows [Version 10.0.18363.959]\n",
      "(c) 2019 Microsoft Corporation. All rights reserved.\n",
      "\n",
      "(cmpt419-project) C:\\justins_files\\School\\CMPT 419\\Project\\CMPT419-term-project>cd dataset/vids\n",
      "\n",
      "(cmpt419-project) C:\\justins_files\\School\\CMPT 419\\Project\\CMPT419-term-project\\dataset\\vids>ffmpeg -loglevel warning -i BestTVNewsBloopersOfTheDecade.mp4 -ss 27:13 -to 27:16 test.mp4 -y\n",
      "\n",
      "(cmpt419-project) C:\\justins_files\\School\\CMPT 419\\Project\\CMPT419-term-project\\dataset\\vids>"
     ]
    }
   ],
   "source": [
    "%%cmd\n",
    "cd dataset/vids\n",
    "ffmpeg -loglevel warning -i BestTVNewsBloopersOfTheDecade.mp4 -ss 27:13 -to 27:16 test.mp4 -y\n"
   ]
  },
  {
   "cell_type": "markdown",
   "metadata": {},
   "source": [
    "### Crop"
   ]
  },
  {
   "cell_type": "code",
   "execution_count": 194,
   "metadata": {},
   "outputs": [
    {
     "name": "stdout",
     "output_type": "stream",
     "text": [
      "Microsoft Windows [Version 10.0.18363.959]\n",
      "(c) 2019 Microsoft Corporation. All rights reserved.\n",
      "\n",
      "(cmpt419-project) C:\\justins_files\\School\\CMPT 419\\Project\\CMPT419-term-project>cd dataset/vids\n",
      "\n",
      "(cmpt419-project) C:\\justins_files\\School\\CMPT 419\\Project\\CMPT419-term-project\\dataset\\vids>ffmpeg -loglevel warning -i test.mp4 -filter:v \"crop=300:400:100:0 \" cropped.mp4 -y\n",
      "\n",
      "(cmpt419-project) C:\\justins_files\\School\\CMPT 419\\Project\\CMPT419-term-project\\dataset\\vids>"
     ]
    }
   ],
   "source": [
    "%%cmd\n",
    "cd dataset/vids\n",
    "ffmpeg -loglevel warning -i test.mp4 -filter:v \"crop=300:400:100:0 \" cropped.mp4 -y"
   ]
  },
  {
   "cell_type": "markdown",
   "metadata": {},
   "source": [
    "### Frames\n"
   ]
  },
  {
   "cell_type": "code",
   "execution_count": 198,
   "metadata": {},
   "outputs": [
    {
     "name": "stdout",
     "output_type": "stream",
     "text": [
      "Microsoft Windows [Version 10.0.18363.959]\n",
      "(c) 2019 Microsoft Corporation. All rights reserved.\n",
      "\n",
      "(cmpt419-project) C:\\justins_files\\School\\CMPT 419\\Project\\CMPT419-term-project>cd dataset/vids\n",
      "\n",
      "(cmpt419-project) C:\\justins_files\\School\\CMPT 419\\Project\\CMPT419-term-project\\dataset\\vids>ffmpeg -loglevel warning -i test.mp4 %d.jpg\n",
      "\n",
      "(cmpt419-project) C:\\justins_files\\School\\CMPT 419\\Project\\CMPT419-term-project\\dataset\\vids>"
     ]
    },
    {
     "name": "stderr",
     "output_type": "stream",
     "text": [
      "[swscaler @ 00000180914f5c40] deprecated pixel format used, make sure you did set range correctly\n"
     ]
    }
   ],
   "source": [
    "%%cmd\n",
    "cd dataset/vids\n",
    "ffmpeg -loglevel warning -i test.mp4 %d.jpg\n"
   ]
  }
 ],
 "metadata": {
  "kernelspec": {
   "display_name": "Python 3",
   "language": "python",
   "name": "python3"
  },
  "language_info": {
   "codemirror_mode": {
    "name": "ipython",
    "version": 3
   },
   "file_extension": ".py",
   "mimetype": "text/x-python",
   "name": "python",
   "nbconvert_exporter": "python",
   "pygments_lexer": "ipython3",
   "version": "3.7.7"
  }
 },
 "nbformat": 4,
 "nbformat_minor": 4
}
