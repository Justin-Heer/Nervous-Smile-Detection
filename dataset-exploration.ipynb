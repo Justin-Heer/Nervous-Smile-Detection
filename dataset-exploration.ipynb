{
 "cells": [
  {
   "cell_type": "markdown",
   "metadata": {},
   "source": [
    "### README\n",
    "The purpose of this notebook is to walk the reader through some of the exploratory analysis that was done when working on this project. This is by no means all the work that was done, but showcases the things that we thought were important or significant. We have tried to explain our thought process in an organic and natural way"
   ]
  },
  {
   "cell_type": "code",
   "execution_count": 13,
   "metadata": {},
   "outputs": [],
   "source": [
    "# Import required libraries\n",
    "import pandas as pd # for holding data in a dataframe\n",
    "import os # for manipulating directories and listing files\n",
    "from matplotlib import pyplot as plt #visualization\n",
    "import numpy as np # linear algebra and array work\n",
    "from statsmodels.stats.proportion import proportions_ztest #significance testing"
   ]
  },
  {
   "cell_type": "code",
   "execution_count": 2,
   "metadata": {},
   "outputs": [],
   "source": [
    "def read_csvs(dirPath):\n",
    "    '''\n",
    "    This function reads all the .csv files at the specified director \n",
    "    and then loads them individually into a merged dataframe. It \n",
    "    returns a merged dataframe with a reset index. It also appends the video number\n",
    "    into the dataframe.\n",
    "    '''\n",
    "    # list files in directory\n",
    "    files = os.listdir(dirPath)\n",
    "    \n",
    "    # Create list of valid .csv files in directory and sort numerically\n",
    "    csvs = [csv for csv in files if csv.endswith('.csv')]\n",
    "    csvs.sort(key = lambda x: int(x[1:-4]))\n",
    "    \n",
    "    # Parse through csv files\n",
    "    for inx,csv in enumerate(csvs):\n",
    "        # If this is the first file, we need to create the merged_df\n",
    "        if inx == 0:\n",
    "            merged_df = pd.read_csv(dirPath + csv)\n",
    "            merged_df['video'] = 0 \n",
    "        # else we just read and append\n",
    "        else :\n",
    "            temp_df = pd.read_csv(dirPath + csv)\n",
    "            temp_df['video'] = inx\n",
    "            merged_df = merged_df.append(temp_df)\n",
    "\n",
    "    return merged_df.reset_index(drop=True)"
   ]
  },
  {
   "cell_type": "code",
   "execution_count": 3,
   "metadata": {},
   "outputs": [],
   "source": [
    "# Load happy data\n",
    "happyPath = 'dataset/happy_frames_openface/'\n",
    "happy_df = read_csvs(happyPath)\n",
    "\n",
    "# Load nervous data\n",
    "nervousPath = 'dataset/nervous_frames_openface/'\n",
    "nervous_df = read_csvs(nervousPath)"
   ]
  },
  {
   "cell_type": "code",
   "execution_count": 5,
   "metadata": {},
   "outputs": [],
   "source": [
    "# Create list of AUs that we want to extract from the imported dataset\n",
    "AUs = [' AU01_r', ' AU02_r', ' AU04_r', ' AU05_r', ' AU06_r', ' AU07_r',\n",
    "       ' AU09_r', ' AU10_r', ' AU12_r', ' AU14_r', ' AU15_r', ' AU17_r',\n",
    "       ' AU20_r', ' AU23_r', ' AU25_r', ' AU26_r', ' AU45_r', 'video']\n",
    "# Create a pointer to the original df that only includes the columns we want\n",
    "happy_au_df = happy_df.loc[:,AUs]\n",
    "nervous_au_df = nervous_df.loc[:, AUs]"
   ]
  },
  {
   "cell_type": "code",
   "execution_count": 6,
   "metadata": {},
   "outputs": [],
   "source": [
    "# Get the max AU intenisty per AU per video\n",
    "happy_max_au = happy_au_df.groupby('video').max()\n",
    "nervous_max_au = nervous_au_df.groupby('video').max() "
   ]
  },
  {
   "cell_type": "code",
   "execution_count": 7,
   "metadata": {},
   "outputs": [],
   "source": [
    "# Count the number of times the max AU intensity was larger than 2.5\n",
    "happy_au_arr = (happy_max_au > 2.5).sum()\n",
    "nervous_au_arr = (nervous_max_au > 2.5).sum()"
   ]
  },
  {
   "cell_type": "code",
   "execution_count": 11,
   "metadata": {},
   "outputs": [
    {
     "data": {
      "image/png": "[encoded data removed]",
      "text/plain": [
       "<Figure size 750x525 with 1 Axes>"
      ]
     },
     "metadata": {
      "needs_background": "light"
     },
     "output_type": "display_data"
    }
   ],
   "source": [
    "# Set our x axis \n",
    "x1 = happy_au_arr.index\n",
    "\n",
    "# Get our y values, which are proportions\n",
    "y1 = happy_au_arr.values / happy_au_arr.sum()\n",
    "y2 = nervous_au_arr.values / nervous_au_arr.sum()\n",
    "\n",
    "# Set axis arguments to control output\n",
    "ind = np.arange(happy_au_arr.index.size)\n",
    "width = 0.3\n",
    "\n",
    "# Plot figure, bars, ticks and legend\n",
    "plt.figure(num=1, figsize=(10,7),dpi=75)\n",
    "p1 = plt.bar(ind,y1, width = width, label = 'Happy')\n",
    "plt.xticks(rotation = 90)\n",
    "p2 = plt.bar(ind+width,y2, width = width, label = 'Nervous')\n",
    "plt.ylabel('Proportion')\n",
    "plt.title('Action Unit Occurence By Smile Type')\n",
    "plt.xticks(ind + width / 2, x1)\n",
    "plt.legend(loc='best')\n",
    "plt.savefig('action-unit-occurence-by-smile.png')"
   ]
  },
  {
   "cell_type": "code",
   "execution_count": 15,
   "metadata": {},
   "outputs": [
    {
     "name": "stdout",
     "output_type": "stream",
     "text": [
      "for  AU01_r (1.0235940321165866, 0.30602706519804435)\n",
      "for  AU02_r (-0.5638279704202742, 0.572871214265066)\n",
      "for  AU04_r (-1.009143077489369, 0.3129060211649882)\n",
      "for  AU05_r (0.5563454734615338, 0.5779747063736267)\n",
      "for  AU06_r (1.2276797146323757, 0.21956722432193032)\n",
      "for  AU07_r (1.0916023234904817, 0.27500793442653637)\n",
      "for  AU09_r (nan, nan)\n",
      "for  AU10_r (-0.5084982247269069, 0.6111039837774244)\n",
      "for  AU12_r (3.2466237765125094, 0.0011678265425233078)\n",
      "for  AU14_r (0.5497549326621741, 0.5824874735787529)\n",
      "for  AU15_r (-1.1448438976048245, 0.25227382739316817)\n",
      "for  AU17_r (-1.4784400203689474, 0.1392900401651598)\n",
      "for  AU20_r (-0.06584204669242268, 0.9475035804251846)\n",
      "for  AU23_r (-0.31111352959521155, 0.755714316069206)\n",
      "for  AU25_r (-0.7301598446278202, 0.465292484503251)\n",
      "for  AU26_r (-4.596325629444343, 4.300065088491656e-06)\n",
      "for  AU45_r (-0.8667583376026822, 0.38607443392072516)\n"
     ]
    }
   ],
   "source": [
    "# performs 2 proportion z test between happy and nervous data for every AU\n",
    "# Output is (Z-score,p-value) for a 2 tailed test.\n",
    "for kk,_ in enumerate(nervous_au_arr.index):\n",
    "    count = np.array([happy_au_arr[kk], nervous_au_arr[kk]])\n",
    "    nobs = np.array([happy_au_arr.sum(), nervous_au_arr.sum()])\n",
    "    print('for {}'.format(happy_au_arr.index[kk]),proportions_ztest(count,nobs))"
   ]
  }
 ],
 "metadata": {
  "kernelspec": {
   "display_name": "Python 3",
   "language": "python",
   "name": "python3"
  },
  "language_info": {
   "codemirror_mode": {
    "name": "ipython",
    "version": 3
   },
   "file_extension": ".py",
   "mimetype": "text/x-python",
   "name": "python",
   "nbconvert_exporter": "python",
   "pygments_lexer": "ipython3",
   "version": "3.7.7"
  }
 },
 "nbformat": 4,
 "nbformat_minor": 4
}
