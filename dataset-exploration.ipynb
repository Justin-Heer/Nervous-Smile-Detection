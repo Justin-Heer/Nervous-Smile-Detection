{
 "cells": [
  {
   "cell_type": "code",
   "execution_count": 22,
   "metadata": {},
   "outputs": [],
   "source": [
    "import pandas as pd\n",
    "import os\n",
    "from matplotlib import pyplot as plt\n",
    "import numpy as np"
   ]
  },
  {
   "cell_type": "code",
   "execution_count": 2,
   "metadata": {},
   "outputs": [],
   "source": [
    "def read_csvs(dirPath):\n",
    "    files = os.listdir(dirPath)\n",
    "    csvs = [csv for csv in files if csv.endswith('.csv')]\n",
    "    csvs.sort(key = lambda x: int(x[1:-4]))\n",
    "    \n",
    "    for inx,csv in enumerate(csvs):\n",
    "        \n",
    "        if inx == 0:\n",
    "            merged_df = pd.read_csv(dirPath + csv)\n",
    "            merged_df['video'] = 0 \n",
    "        else :\n",
    "            temp_df = pd.read_csv(dirPath + csv)\n",
    "            temp_df['video'] = inx\n",
    "            merged_df = merged_df.append(temp_df)\n",
    "\n",
    "    return merged_df.reset_index(drop=True)"
   ]
  },
  {
   "cell_type": "code",
   "execution_count": 3,
   "metadata": {},
   "outputs": [],
   "source": [
    "happyPath = 'dataset/happy_frames_openface/'\n",
    "happy_df = read_csvs(happyPath)\n",
    "\n",
    "nervousPath = 'dataset/nervous_frames_openface/'\n",
    "nervous_df = read_csvs(nervousPath)"
   ]
  },
  {
   "cell_type": "code",
   "execution_count": 4,
   "metadata": {},
   "outputs": [],
   "source": [
    "AUs = [' AU01_r', ' AU02_r', ' AU04_r', ' AU05_r', ' AU06_r', ' AU07_r',\n",
    "       ' AU09_r', ' AU10_r', ' AU12_r', ' AU14_r', ' AU15_r', ' AU17_r',\n",
    "       ' AU20_r', ' AU23_r', ' AU25_r', ' AU26_r', ' AU45_r', 'video']\n",
    "happy_au_df = happy_df.loc[:,AUs]\n",
    "nervous_au_df = nervous_df.loc[:, AUs]"
   ]
  },
  {
   "cell_type": "code",
   "execution_count": 5,
   "metadata": {},
   "outputs": [],
   "source": [
    "happy_max_au = happy_au_df.groupby('video').max()\n",
    "nervous_max_au = nervous_au_df.groupby('video').max() "
   ]
  },
  {
   "cell_type": "code",
   "execution_count": 12,
   "metadata": {},
   "outputs": [],
   "source": [
    "happy_au_arr = (happy_max_au > 2.5).sum()\n",
    "nervous_au_arr = (nervous_max_au > 2.5).sum()"
   ]
  },
  {
   "cell_type": "code",
   "execution_count": 13,
   "metadata": {},
   "outputs": [
    {
     "data": {
      "text/plain": [
       "<matplotlib.axes._subplots.AxesSubplot at 0x19ec160f688>"
      ]
     },
     "execution_count": 13,
     "metadata": {},
     "output_type": "execute_result"
    },
    {
     "data": {
      "image/png": "[encoded data removed]",
      "text/plain": [
       "<Figure size 432x288 with 1 Axes>"
      ]
     },
     "metadata": {
      "needs_background": "light"
     },
     "output_type": "display_data"
    }
   ],
   "source": [
    "happy_au_arr.plot.bar()"
   ]
  },
  {
   "cell_type": "code",
   "execution_count": 14,
   "metadata": {},
   "outputs": [
    {
     "data": {
      "text/plain": [
       "<matplotlib.axes._subplots.AxesSubplot at 0x19eb5387888>"
      ]
     },
     "execution_count": 14,
     "metadata": {},
     "output_type": "execute_result"
    },
    {
     "data": {
      "image/png": "[encoded data removed]",
      "text/plain": [
       "<Figure size 432x288 with 1 Axes>"
      ]
     },
     "metadata": {
      "needs_background": "light"
     },
     "output_type": "display_data"
    }
   ],
   "source": [
    "nervous_au_arr.plot.bar()"
   ]
  },
  {
   "cell_type": "code",
   "execution_count": 82,
   "metadata": {},
   "outputs": [],
   "source": [
    "from sklearn import svm\n",
    "from sklearn.model_selection import train_test_split\n",
    "from sklearn.metrics import accuracy_score, classification_report"
   ]
  },
  {
   "cell_type": "code",
   "execution_count": 64,
   "metadata": {},
   "outputs": [],
   "source": []
  },
  {
   "cell_type": "code",
   "execution_count": 65,
   "metadata": {},
   "outputs": [],
   "source": [
    "x_happy = happy_au_df.drop(['video'],axis=1).values\n",
    "x_nervous = nervous_au_df.drop(['video'],axis=1).values\n",
    "\n",
    "X = np.concatenate((x_happy, x_nervous ))\n",
    "\n",
    "y = np.concatenate((np.zeros((x_happy.shape[0], )) , np.ones(x_nervous.shape[0], )))"
   ]
  },
  {
   "cell_type": "code",
   "execution_count": 68,
   "metadata": {},
   "outputs": [],
   "source": [
    "X_train,X_test,y_train,y_test = train_test_split(X,y,random_state=1,test_size = 0.2)"
   ]
  },
  {
   "cell_type": "code",
   "execution_count": 151,
   "metadata": {},
   "outputs": [],
   "source": [
    "clf = svm.SVC(kernel = 'rbf'\n",
    "             ,C = 10)"
   ]
  },
  {
   "cell_type": "code",
   "execution_count": 152,
   "metadata": {},
   "outputs": [
    {
     "data": {
      "text/plain": [
       "SVC(C=10)"
      ]
     },
     "execution_count": 152,
     "metadata": {},
     "output_type": "execute_result"
    }
   ],
   "source": [
    "clf.fit(X_train,y_train)"
   ]
  },
  {
   "cell_type": "code",
   "execution_count": 153,
   "metadata": {},
   "outputs": [
    {
     "data": {
      "text/plain": [
       "0.8418730080902181"
      ]
     },
     "execution_count": 153,
     "metadata": {},
     "output_type": "execute_result"
    }
   ],
   "source": [
    "y_pred = clf.predict(X_test)\n",
    "accuracy_score(y_test,y_pred)"
   ]
  },
  {
   "cell_type": "code",
   "execution_count": 154,
   "metadata": {},
   "outputs": [
    {
     "name": "stdout",
     "output_type": "stream",
     "text": [
      "              precision    recall  f1-score   support\n",
      "\n",
      "         0.0       0.85      0.92      0.89      2769\n",
      "         1.0       0.81      0.67      0.73      1310\n",
      "\n",
      "    accuracy                           0.84      4079\n",
      "   macro avg       0.83      0.80      0.81      4079\n",
      "weighted avg       0.84      0.84      0.84      4079\n",
      "\n"
     ]
    }
   ],
   "source": [
    "print(classification_report(y_test,y_pred))"
   ]
  },
  {
   "cell_type": "code",
   "execution_count": 215,
   "metadata": {},
   "outputs": [],
   "source": [
    "clfs = [svm.SVC(C = c).fit(X_train,y_train) for c in range(50,1000,50)]"
   ]
  },
  {
   "cell_type": "code",
   "execution_count": 216,
   "metadata": {},
   "outputs": [],
   "source": [
    "reports = [classification_report(y_test,clf.predict(X_test)) for clf in clfs]"
   ]
  },
  {
   "cell_type": "code",
   "execution_count": 234,
   "metadata": {},
   "outputs": [
    {
     "name": "stdout",
     "output_type": "stream",
     "text": [
      "              precision    recall  f1-score   support\n",
      "\n",
      "         0.0       0.92      0.94      0.93      2769\n",
      "         1.0       0.87      0.82      0.85      1310\n",
      "\n",
      "    accuracy                           0.90      4079\n",
      "   macro avg       0.90      0.88      0.89      4079\n",
      "weighted avg       0.90      0.90      0.90      4079\n",
      "\n"
     ]
    }
   ],
   "source": [
    "print(reports[18])"
   ]
  },
  {
   "cell_type": "code",
   "execution_count": null,
   "metadata": {},
   "outputs": [],
   "source": [
    "with pd.option_context('display.max_rows', 200, 'display.max_columns', 700):  # more options can be specified also\n",
    "    display(nervous_df.loc[cond1,:])"
   ]
  },
  {
   "cell_type": "code",
   "execution_count": 145,
   "metadata": {},
   "outputs": [
    {
     "data": {
      "text/plain": [
       "100.0"
      ]
     },
     "execution_count": 145,
     "metadata": {},
     "output_type": "execute_result"
    }
   ],
   "source": []
  }
 ],
 "metadata": {
  "kernelspec": {
   "display_name": "Python 3",
   "language": "python",
   "name": "python3"
  },
  "language_info": {
   "codemirror_mode": {
    "name": "ipython",
    "version": 3
   },
   "file_extension": ".py",
   "mimetype": "text/x-python",
   "name": "python",
   "nbconvert_exporter": "python",
   "pygments_lexer": "ipython3",
   "version": "3.7.7"
  }
 },
 "nbformat": 4,
 "nbformat_minor": 4
}
