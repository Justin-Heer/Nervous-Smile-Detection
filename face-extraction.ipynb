{
 "cells": [
  {
   "cell_type": "code",
   "execution_count": 35,
   "metadata": {},
   "outputs": [],
   "source": [
    "import cv2\n",
    "import sys\n",
    "import os"
   ]
  },
  {
   "cell_type": "code",
   "execution_count": 26,
   "metadata": {},
   "outputs": [],
   "source": [
    "imagePath = \"webcam-images/opencv_frame_3.png\""
   ]
  },
  {
   "cell_type": "code",
   "execution_count": 27,
   "metadata": {},
   "outputs": [],
   "source": [
    "image = cv2.imread(imagePath)\n",
    "gray = cv2.cvtColor(image,cv2.COLOR_BGR2GRAY)"
   ]
  },
  {
   "cell_type": "code",
   "execution_count": null,
   "metadata": {},
   "outputs": [],
   "source": []
  },
  {
   "cell_type": "code",
   "execution_count": 28,
   "metadata": {},
   "outputs": [],
   "source": [
    "faceCascade = cv2.CascadeClassifier(cv2.data.haarcascades + \"haarcascade_frontalface_default.xml\")\n",
    "faces = faceCascade.detectMultiScale(\n",
    "        gray,\n",
    "        scaleFactor=1.3,\n",
    "        minNeighbors=3,\n",
    "        minSize=(30, 30)\n",
    ")\n",
    "\n",
    "print(\"Found {0} Faces!\".format(len(faces)))\n",
    "\n",
    "for (x, y, w, h) in faces:\n",
    "    cv2.rectangle(image, (x, y), (x+w, y+h), (0, 255, 0), 2)\n",
    "\n",
    "status = cv2.imwrite('faces_detected.jpg', image)\n",
    "\n",
    "print (\"Image faces_detected.jpg written to filesystem: \",status)\n",
    "\n",
    "for (x, y, w, h) in faces:\n",
    "    cv2.rectangle(image, (x, y), (x + w, y + h), (0, 255, 0), 2)\n",
    "    roi_color = image[y:y + h, x:x + w] \n",
    "    print(\"[INFO] Object found. Saving locally.\") \n",
    "    cv2.imwrite(str(w) + str(h) + '_faces.jpg', roi_color) \n",
    "\n",
    "status = cv2.imwrite('faces_detected.jpg', image)\n",
    "print(\"[INFO] Image faces_detected.jpg written to filesystem: \", status)"
   ]
  },
  {
   "cell_type": "code",
   "execution_count": 33,
   "metadata": {},
   "outputs": [],
   "source": [
    "def extract_face(fullpic):\n",
    "    \n",
    "    gray = cv2.cvtColor(fullpic,cv2.COLOR_BGR2GRAY)\n",
    "    faceCascade = cv2.CascadeClassifier(cv2.data.haarcascades + \"haarcascade_frontalface_default.xml\")\n",
    "    faces = faceCascade.detectMultiScale(\n",
    "            gray,\n",
    "            scaleFactor=1.3,\n",
    "            minNeighbors=3,\n",
    "            minSize=(30, 30)\n",
    "    )\n",
    "\n",
    "    print(\"Found {0} Faces!\".format(len(faces)))\n",
    "\n",
    "    for (x, y, w, h) in faces:\n",
    "        cv2.rectangle(image, (x, y), (x+w, y+h), (0, 255, 0), 2)\n",
    "\n",
    "#     status = cv2.imwrite('faces_detected.jpg', image)\n",
    "\n",
    "#     print (\"Image faces_detected.jpg written to filesystem: \",status)\n",
    "\n",
    "    for (x, y, w, h) in faces:\n",
    "        cv2.rectangle(image, (x, y), (x + w, y + h), (0, 255, 0), 2)\n",
    "        roi_color = image[y:y + h, x:x + w] \n",
    "        print(\"[INFO] Object found. Saving locally.\") \n",
    "        cv2.imwrite(str(w) + str(h) + '_faces.jpg', roi_color) "
   ]
  },
  {
   "cell_type": "code",
   "execution_count": 38,
   "metadata": {},
   "outputs": [
    {
     "name": "stdout",
     "output_type": "stream",
     "text": [
      "Found 1 Faces!\n",
      "[INFO] Object found. Saving locally.\n",
      "Found 1 Faces!\n",
      "[INFO] Object found. Saving locally.\n",
      "Found 1 Faces!\n",
      "[INFO] Object found. Saving locally.\n",
      "Found 1 Faces!\n",
      "[INFO] Object found. Saving locally.\n",
      "Found 1 Faces!\n",
      "[INFO] Object found. Saving locally.\n",
      "Found 1 Faces!\n",
      "[INFO] Object found. Saving locally.\n",
      "Found 1 Faces!\n",
      "[INFO] Object found. Saving locally.\n",
      "Found 1 Faces!\n",
      "[INFO] Object found. Saving locally.\n",
      "Found 1 Faces!\n",
      "[INFO] Object found. Saving locally.\n",
      "Found 1 Faces!\n",
      "[INFO] Object found. Saving locally.\n"
     ]
    }
   ],
   "source": [
    "image_paths = os.listdir('webcam-images')\n",
    "\n",
    "for image_path in image_paths:\n",
    "    image = cv2.imread(\"webcam-images/\"+image_path)\n",
    "    extract_face(image)"
   ]
  },
  {
   "cell_type": "code",
   "execution_count": null,
   "metadata": {},
   "outputs": [],
   "source": []
  }
 ],
 "metadata": {
  "kernelspec": {
   "display_name": "Python 3",
   "language": "python",
   "name": "python3"
  },
  "language_info": {
   "codemirror_mode": {
    "name": "ipython",
    "version": 3
   },
   "file_extension": ".py",
   "mimetype": "text/x-python",
   "name": "python",
   "nbconvert_exporter": "python",
   "pygments_lexer": "ipython3",
   "version": "3.7.7"
  }
 },
 "nbformat": 4,
 "nbformat_minor": 4
}
